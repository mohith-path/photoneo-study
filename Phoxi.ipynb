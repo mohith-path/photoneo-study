{
 "cells": [
  {
   "cell_type": "code",
   "execution_count": 1,
   "metadata": {},
   "outputs": [],
   "source": [
    "import numpy as np"
   ]
  },
  {
   "cell_type": "code",
   "execution_count": 2,
   "metadata": {},
   "outputs": [
    {
     "name": "stdout",
     "output_type": "stream",
     "text": [
      "Camera rotation from normal: 12.800461381650516\n",
      "Fan angle: 46.52074094915928\n",
      "Fan angle: 34.11180208901353\n"
     ]
    }
   ],
   "source": [
    "# Extraction of Phoxi transforms from the spec-sheet\n",
    "a = 350 / 2\n",
    "b = 317 / 2\n",
    "\n",
    "# a * tan_theta_1 + b * tan_theta_1 = 458\n",
    "tan_theta_1 = 458 / (a + b)\n",
    "theta_1 = np.arctan(tan_theta_1)\n",
    "\n",
    "tan_theta_2 = ((590 - 350) / 2) / 650\n",
    "theta_2 = np.arctan(tan_theta_2)\n",
    "theta_2 += np.pi /2\n",
    "\n",
    "camera_rotation_from_normal = (np.pi / 2) - ((theta_1 + theta_2) / 2)\n",
    "print(f\"Camera rotation from normal: {np.rad2deg(camera_rotation_from_normal)}\")\n",
    "\n",
    "fan_angle_1 = theta_2 - theta_1\n",
    "print(f\"Fan angle: {np.rad2deg(fan_angle_1)}\")\n",
    "\n",
    "fan_angle_2 = 2 * np.arctan((686 / 2) / 1118)\n",
    "print(f\"Fan angle: {np.rad2deg(fan_angle_2)}\")"
   ]
  }
 ],
 "metadata": {
  "kernelspec": {
   "display_name": "caml",
   "language": "python",
   "name": "python3"
  },
  "language_info": {
   "codemirror_mode": {
    "name": "ipython",
    "version": 3
   },
   "file_extension": ".py",
   "mimetype": "text/x-python",
   "name": "python",
   "nbconvert_exporter": "python",
   "pygments_lexer": "ipython3",
   "version": "3.8.10"
  },
  "orig_nbformat": 4
 },
 "nbformat": 4,
 "nbformat_minor": 2
}
