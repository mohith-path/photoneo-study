{
 "cells": [
  {
   "cell_type": "code",
   "execution_count": 1,
   "metadata": {},
   "outputs": [
    {
     "name": "stdout",
     "output_type": "stream",
     "text": [
      "Jupyter environment detected. Enabling Open3D WebVisualizer.\n",
      "[Open3D INFO] WebRTC GUI backend enabled.\n",
      "[Open3D INFO] WebRTCWindowSystem: HTTP handshake server disabled.\n"
     ]
    },
    {
     "name": "stderr",
     "output_type": "stream",
     "text": [
      "pybullet build time: May 20 2022 19:44:17\n"
     ]
    }
   ],
   "source": [
    "import numpy as np\n",
    "\n",
    "import caml_core as core\n",
    "import caml_cell as cell\n",
    "\n",
    "from utils import get_camera_T_part, get_overlap_metrics\n",
    "from scanners import Phoxi, MotioncamOld"
   ]
  },
  {
   "cell_type": "code",
   "execution_count": 2,
   "metadata": {},
   "outputs": [],
   "source": [
    "CAMERA = \"phoxi\"\n",
    "\n",
    "CUSTOMER = \"Fabtech\"\n",
    "PART = \"base_bracket\"\n",
    "SCAN = 5"
   ]
  },
  {
   "cell_type": "code",
   "execution_count": 3,
   "metadata": {},
   "outputs": [],
   "source": [
    "if CUSTOMER == \"Fabtech\":\n",
    "    part_template_path = f\"/home/mohith/oasis/CAMLPartTemplates/{CUSTOMER}/Organizer/{PART}\"\n",
    "elif CUSTOMER == \"Hutchens\":\n",
    "    part_template_path = f\"/home/path/projects/oasis/CAMLPartTemplates/{CUSTOMER}/20732/{PART}\"\n",
    "part_template = core.io.load_part_template(part_template_path)\n",
    "\n",
    "\n",
    "if CAMERA == \"phoxi\":\n",
    "    scan_path = f\"data/{CAMERA}/snapshot_{SCAN:05d}/observations/left_sensor_holder_eye_1_camera_optical/\"\n",
    "    scan = core.io.load_point_cloud(scan_path + \"point_cloud.ply\")"
   ]
  },
  {
   "cell_type": "code",
   "execution_count": 4,
   "metadata": {},
   "outputs": [
    {
     "name": "stdout",
     "output_type": "stream",
     "text": [
      "\n",
      "\u001b[1m\u001b[95m[SECTION ]\t [2023-09-21 16:03:21.987801] Start: user_selected_correspondence/00000 \u001b[0m \n"
     ]
    },
    {
     "name": "stdout",
     "output_type": "stream",
     "text": [
      "\u001b[94m[INFO    ]\u001b[00m\t Instructions:\n",
      "1) Please select points using [shift + left click]\n",
      "\tPress [shift + right click] to undo point picking\n",
      "2) After selecting points, press q for close the window\n",
      "[Open3D INFO] Picked point #37164 (0.18, 0.13, 0.93) to add in queue.\n",
      "[Open3D INFO] Picked point #67453 (0.12, 0.21, 0.95) to add in queue.\n",
      "[Open3D INFO] Picked point #0 (0.11, 0.053, 1) to add in queue.\n",
      "[Open3D INFO] No point has been picked.\n",
      "[Open3D INFO] No point has been picked.\n",
      "[Open3D INFO] No point has been picked.\n",
      "[Open3D INFO] Picked point #12779 (0.09, 0.1, 1) to add in queue.\n",
      "[Open3D INFO] No point has been picked.\n",
      "[Open3D INFO] No point has been picked.\n",
      "[Open3D INFO] No point has been picked.\n",
      "[Open3D INFO] Picked point #40148 (0.047, 0.14, 1) to add in queue.\n",
      "\u001b[94m[INFO    ]\u001b[00m\t Instructions:\n",
      "1) Please select points using [shift + left click]\n",
      "\tPress [shift + right click] to undo point picking\n",
      "2) After selecting points, press q for close the window\n",
      "[Open3D INFO] Picked point #499563 (-0.051, 0.055, 0.057) to add in queue.\n",
      "[Open3D INFO] Picked point #498568 (0.051, 0.057, 0.057) to add in queue.\n",
      "[Open3D INFO] No point has been picked.\n",
      "[Open3D INFO] No point has been picked.\n",
      "[Open3D INFO] Picked point #182070 (-0.055, -0.052, 0.00017) to add in queue.\n",
      "[Open3D INFO] Picked point #178662 (-0.004, -0.042, 0.00098) to add in queue.\n",
      "[Open3D INFO] No point has been picked.\n",
      "[Open3D INFO] No point has been picked.\n",
      "[Open3D INFO] Picked point #167408 (0.055, -0.051, 0.00018) to add in queue.\n",
      "\u001b[1m\u001b[95m[SECTION ]\t [2023-09-21 16:04:43.359194] End: user_selected_correspondence/00000 time: 81.3714 total time: 83.64 \u001b[0m \n",
      "\n",
      "\n",
      "\u001b[1m\u001b[95m[SECTION ]\t [2023-09-21 16:05:10.535274] Start: iterative_icp/00000 \u001b[0m \n",
      "\n",
      "\u001b[1m\u001b[95m[SECTION ]\t [2023-09-21 16:05:10.536248] Start: icp/00000 \u001b[0m \n",
      "\u001b[1m\u001b[95m[SECTION ]\t [2023-09-21 16:05:10.573025] End: icp/00000 time: 0.0368 total time: 88.14 \u001b[0m \n",
      "\n",
      "\n",
      "\u001b[1m\u001b[95m[SECTION ]\t [2023-09-21 16:05:10.574101] Start: icp/00000 \u001b[0m \n",
      "\u001b[1m\u001b[95m[SECTION ]\t [2023-09-21 16:05:10.595090] End: icp/00000 time: 0.0210 total time: 88.17 \u001b[0m \n",
      "\n",
      "\u001b[1m\u001b[95m[SECTION ]\t [2023-09-21 16:05:10.596092] End: iterative_icp/00000 time: 0.0608 total time: 88.17 \u001b[0m \n",
      "\n"
     ]
    }
   ],
   "source": [
    "camera_T_part, point_cloud = get_camera_T_part(scan=scan, part_template=part_template, scan_path=scan_path)"
   ]
  }
 ],
 "metadata": {
  "kernelspec": {
   "display_name": "caml",
   "language": "python",
   "name": "python3"
  },
  "language_info": {
   "codemirror_mode": {
    "name": "ipython",
    "version": 3
   },
   "file_extension": ".py",
   "mimetype": "text/x-python",
   "name": "python",
   "nbconvert_exporter": "python",
   "pygments_lexer": "ipython3",
   "version": "3.8.10"
  },
  "orig_nbformat": 4
 },
 "nbformat": 4,
 "nbformat_minor": 2
}
